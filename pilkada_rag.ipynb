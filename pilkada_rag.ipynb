{
  "cells": [
    {
      "cell_type": "code",
      "execution_count": 67,
      "metadata": {
        "id": "YD6urJjWGVDf"
      },
      "outputs": [],
      "source": [
        "!pip install -U -q google-generativeai"
      ]
    },
    {
      "cell_type": "code",
      "execution_count": 68,
      "metadata": {
        "id": "Zey3UiYGDDzU"
      },
      "outputs": [],
      "source": [
        "import textwrap\n",
        "import numpy as np\n",
        "import pandas as pd\n",
        "\n",
        "import google.generativeai as genai\n",
        "\n",
        "# Used to securely store your API key\n",
        "from google.colab import userdata\n",
        "\n",
        "from IPython.display import Markdown"
      ]
    },
    {
      "cell_type": "code",
      "execution_count": 69,
      "metadata": {
        "id": "JIm3gEGYhTX1"
      },
      "outputs": [],
      "source": [
        "# Or use `os.getenv('API_KEY')` to fetch an environment variable.\n",
        "API_KEY=userdata.get('GEMINI_API_KEY')\n",
        "\n",
        "genai.configure(api_key=API_KEY)"
      ]
    },
    {
      "cell_type": "code",
      "source": [
        "import pandas as pd\n",
        "\n",
        "# Replace these with your actual CSV links\n",
        "candidates = ['syaikhu', 'jeje', 'dedi', 'acep']\n",
        "csv_links = [\n",
        "    (x, f\"https://raw.githubusercontent.com/rendybjunior/pilkada-rag/refs/heads/main/data/{x}.csv\")\n",
        "    for x in candidates\n",
        "]\n",
        "\n",
        "# Create an empty list to store the dataframes\n",
        "dfs = []\n",
        "\n",
        "# Iterate through the CSV links and load each into a dataframe\n",
        "for candidate, link in csv_links:\n",
        "  try:\n",
        "    df = pd.read_csv(link)\n",
        "    df['candidate'] = candidate\n",
        "    dfs.append(df)\n",
        "  except Exception as e:\n",
        "    print(f\"Error loading CSV from {link}: {e}\")\n",
        "\n",
        "# Concatenate all dataframes into one\n",
        "combined_df = pd.concat(dfs, ignore_index=True)\n",
        "combined_df.dropna(inplace=True)\n",
        "\n",
        "# Print the combined dataframe (optional)\n",
        "df = combined_df[['title', 'box_text', 'candidate']]"
      ],
      "metadata": {
        "id": "adhhhtS75Fai"
      },
      "execution_count": 84,
      "outputs": []
    },
    {
      "cell_type": "code",
      "source": [
        "def find_best_passage(query, dataframe):\n",
        "  \"\"\"\n",
        "  Compute the distances between the query and each document in the dataframe\n",
        "  using the dot product.\n",
        "  \"\"\"\n",
        "  query_embedding = genai.embed_content(model='models/embedding-001',\n",
        "                                        content=query,\n",
        "                                        task_type=\"retrieval_query\")\n",
        "  dot_products = np.dot(np.stack(dataframe['embeddings']), query_embedding[\"embedding\"])\n",
        "  idx = np.argmax(dot_products)\n",
        "  return dataframe.iloc[idx]['title'], dataframe.iloc[idx]['box_text'] # Return text from index with max value"
      ],
      "metadata": {
        "id": "_Z-x2OJq9-1Q"
      },
      "execution_count": 85,
      "outputs": []
    },
    {
      "cell_type": "code",
      "source": [
        "# Get the embeddings of each text and add to an embeddings column in the dataframe\n",
        "def embed_fn(title, text):\n",
        "  return genai.embed_content(model='models/embedding-001',\n",
        "                             content=text,\n",
        "                             task_type=\"retrieval_document\",\n",
        "                             title=title)[\"embedding\"]"
      ],
      "metadata": {
        "id": "rwHA8HX38jst"
      },
      "execution_count": 86,
      "outputs": []
    },
    {
      "cell_type": "code",
      "source": [
        "df['embeddings'] = df.apply(lambda row: embed_fn(row['title'], row['box_text']), axis=1)"
      ],
      "metadata": {
        "colab": {
          "base_uri": "https://localhost:8080/",
          "height": 121
        },
        "id": "JcQPwHBBDMdo",
        "outputId": "72a613cf-43a7-4ff7-ed03-1e4afd898c4d"
      },
      "execution_count": 87,
      "outputs": [
        {
          "output_type": "stream",
          "name": "stderr",
          "text": [
            "<ipython-input-87-29d0fb47f0c0>:1: SettingWithCopyWarning: \n",
            "A value is trying to be set on a copy of a slice from a DataFrame.\n",
            "Try using .loc[row_indexer,col_indexer] = value instead\n",
            "\n",
            "See the caveats in the documentation: https://pandas.pydata.org/pandas-docs/stable/user_guide/indexing.html#returning-a-view-versus-a-copy\n",
            "  df['embeddings'] = df.apply(lambda row: embed_fn(row['title'], row['box_text']), axis=1)\n"
          ]
        }
      ]
    },
    {
      "cell_type": "code",
      "source": [
        "def make_prompt(query, relevant_passage):\n",
        "  escaped = relevant_passage.replace(\"'\", \"\").replace('\"', \"\").replace(\"\\n\", \" \")\n",
        "  prompt = textwrap.dedent(\"\"\"You are a helpful and informative bot that answers questions using text from the reference passage included below. \\\n",
        "  Be sure to respond in a complete sentence, being comprehensive, including all relevant background information. \\\n",
        "  However, you are talking to a non-technical audience, so be sure to break down complicated concepts and \\\n",
        "  strike a friendly and converstional tone. \\\n",
        "  If the passage is irrelevant to the answer, you may ignore it.\n",
        "  QUESTION: '{query}'\n",
        "  PASSAGE: '{relevant_passage}'\n",
        "\n",
        "    ANSWER:\n",
        "  \"\"\").format(query=query, relevant_passage=escaped)\n",
        "\n",
        "  return prompt"
      ],
      "metadata": {
        "id": "LkBszVy2_d15"
      },
      "execution_count": 88,
      "outputs": []
    },
    {
      "cell_type": "code",
      "source": [
        "def answer_this(query):\n",
        "  title, box_text = find_best_passage(query, df)\n",
        "  prompt = make_prompt(query, f'{title} : {box_text}')\n",
        "  answer = genai.GenerativeModel('gemini-1.5-pro-latest').generate_content(prompt)\n",
        "  return Markdown(answer.text)"
      ],
      "metadata": {
        "id": "PW0Uyt8N_7rt"
      },
      "execution_count": 89,
      "outputs": []
    },
    {
      "cell_type": "code",
      "source": [
        "# Catatan: contoh saja, bukan mendukung paslon tertentu\n",
        "query = \"Siapa yang punya visi atau mendukung hal terkait teknologi informasi?\"\n",
        "answer_this(query)"
      ],
      "metadata": {
        "colab": {
          "base_uri": "https://localhost:8080/",
          "height": 81
        },
        "id": "Js49N-ILDYRK",
        "outputId": "0796c78a-202b-4008-9ba5-3225d6d42b8b"
      },
      "execution_count": 90,
      "outputs": [
        {
          "output_type": "execute_result",
          "data": {
            "text/plain": [
              "<IPython.core.display.Markdown object>"
            ],
            "text/markdown": "Sayangnya, teks ini tidak menyebutkan siapa saja yang mendukung teknologi informasi secara umum.  Teks ini hanya memberitahu kita bahwa Dedi Mulyadi, calon Gubernur Jabar, mendukung penggunaan teknologi digital, khususnya untuk museum di Jawa Barat.  Beliau ingin museum-museum ini didigitalisasi agar lebih mudah diakses generasi muda dan untuk menyebarkan pengetahuan tentang pengobatan tradisional. \n"
          },
          "metadata": {},
          "execution_count": 90
        }
      ]
    }
  ],
  "metadata": {
    "colab": {
      "toc_visible": true,
      "provenance": []
    },
    "google": {
      "image_path": "/site-assets/images/share.png",
      "keywords": [
        "examples",
        "googleai",
        "samplecode",
        "python",
        "embed"
      ]
    },
    "kernelspec": {
      "display_name": "Python 3",
      "name": "python3"
    }
  },
  "nbformat": 4,
  "nbformat_minor": 0
}